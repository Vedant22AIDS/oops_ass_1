{
 "cells": [
  {
   "cell_type": "code",
   "execution_count": 5,
   "id": "26a96b96-2835-44be-bebc-e2a629767078",
   "metadata": {},
   "outputs": [
    {
     "name": "stdout",
     "output_type": "stream",
     "text": [
      "\n",
      "1. To Deposit Amount\n",
      "2. To Withdraw Amount\n",
      "3. To display bank details\n",
      "4. To exit\n",
      "\n"
     ]
    },
    {
     "name": "stdin",
     "output_type": "stream",
     "text": [
      "Enter your choice : 1\n",
      "Enter amount to be deposit : 1000\n"
     ]
    },
    {
     "name": "stdout",
     "output_type": "stream",
     "text": [
      "Money Deposited successfully\n",
      "\n",
      "1. To Deposit Amount\n",
      "2. To Withdraw Amount\n",
      "3. To display bank details\n",
      "4. To exit\n",
      "\n"
     ]
    },
    {
     "name": "stdin",
     "output_type": "stream",
     "text": [
      "Enter your choice : 3\n"
     ]
    },
    {
     "name": "stdout",
     "output_type": "stream",
     "text": [
      "Name : vedant\n",
      "Account_no : 101\n",
      "Balance : 2000\n",
      "\n",
      "1. To Deposit Amount\n",
      "2. To Withdraw Amount\n",
      "3. To display bank details\n",
      "4. To exit\n",
      "\n"
     ]
    },
    {
     "name": "stdin",
     "output_type": "stream",
     "text": [
      "Enter your choice : 2\n",
      "Enter amount to be withdraw : 1000\n"
     ]
    },
    {
     "name": "stdout",
     "output_type": "stream",
     "text": [
      "Money withdraw successfully\n",
      "\n",
      "1. To Deposit Amount\n",
      "2. To Withdraw Amount\n",
      "3. To display bank details\n",
      "4. To exit\n",
      "\n"
     ]
    },
    {
     "name": "stdin",
     "output_type": "stream",
     "text": [
      "Enter your choice : 1\n",
      "Enter amount to be deposit : -10\n"
     ]
    },
    {
     "name": "stdout",
     "output_type": "stream",
     "text": [
      "Invalid amount\n",
      "\n",
      "1. To Deposit Amount\n",
      "2. To Withdraw Amount\n",
      "3. To display bank details\n",
      "4. To exit\n",
      "\n"
     ]
    },
    {
     "name": "stdin",
     "output_type": "stream",
     "text": [
      "Enter your choice : 2\n",
      "Enter amount to be withdraw : 10000\n"
     ]
    },
    {
     "name": "stdout",
     "output_type": "stream",
     "text": [
      "Not sufficient balance\n",
      "\n",
      "1. To Deposit Amount\n",
      "2. To Withdraw Amount\n",
      "3. To display bank details\n",
      "4. To exit\n",
      "\n"
     ]
    },
    {
     "name": "stdin",
     "output_type": "stream",
     "text": [
      "Enter your choice : 3\n"
     ]
    },
    {
     "name": "stdout",
     "output_type": "stream",
     "text": [
      "Name : vedant\n",
      "Account_no : 101\n",
      "Balance : 1000\n",
      "\n",
      "1. To Deposit Amount\n",
      "2. To Withdraw Amount\n",
      "3. To display bank details\n",
      "4. To exit\n",
      "\n"
     ]
    },
    {
     "name": "stdin",
     "output_type": "stream",
     "text": [
      "Enter your choice : 4\n"
     ]
    }
   ],
   "source": [
    "'''\n",
    "\"Problem 1: Bank Account Create a class representing a bank account with attributes like account number, account holder name,\n",
    "and balance. Implement methods to deposit and withdraw money from the account.\n",
    "'''\n",
    "class BankAccount:\n",
    "    def __init__(self,a,n,b):\n",
    "        self.acc_no=a\n",
    "        self.name=n\n",
    "        self.balance=b\n",
    "    \n",
    "    def deposit(self,money):\n",
    "        try:\n",
    "            if money<0 :\n",
    "                raise Exception(\"Invalid amount\")\n",
    "            else:\n",
    "                self.balance=self.balance+money\n",
    "            print(\"Money Deposited successfully\")\n",
    "        except Exception as e:\n",
    "            print(e)\n",
    "            \n",
    "    def withdraw(self,money):\n",
    "        try:\n",
    "            if money>self.balance:\n",
    "                raise Exception(\"Not sufficient balance\")\n",
    "            else:\n",
    "                 self.balance=self.balance-money\n",
    "                 print(\"Money withdraw successfully\")\n",
    "         \n",
    "        except Exception as e:\n",
    "                print(e)\n",
    "    def bankdetails(self):\n",
    "        print(f\"Name : {self.name}\")\n",
    "        print(f\"Account_no : {self.acc_no}\")\n",
    "        print(f\"Balance : {self.balance}\")\n",
    "  \n",
    "account_1=BankAccount(101,\"vedant\",1000)\n",
    "\n",
    "while(True):\n",
    "    print(\"\"\"\n",
    "1. To Deposit Amount\n",
    "2. To Withdraw Amount\n",
    "3. To display bank details\n",
    "4. To exit\n",
    "\"\"\")\n",
    "    \n",
    "    amount=0\n",
    "    choice=int(input(\"Enter your choice :\"))    \n",
    "    if choice==1:\n",
    "        amount=int(input(\"Enter amount to be deposit :\"))\n",
    "        account_1.deposit(amount)\n",
    "    \n",
    "    if choice==2:\n",
    "        amount=int(input(\"Enter amount to be withdraw :\"))\n",
    "        account_1.withdraw(amount)\n",
    "        \n",
    "    if choice==3:\n",
    "        account_1.bankdetails()\n",
    "       \n",
    "    if choice==4:\n",
    "        break"
   ]
  },
  {
   "cell_type": "code",
   "execution_count": 6,
   "id": "6338d9df-79da-46d4-9a59-cdd71fdf383d",
   "metadata": {},
   "outputs": [
    {
     "name": "stdout",
     "output_type": "stream",
     "text": [
      "\n",
      "        Id : 101\n",
      "        Name : Vedant\n",
      "        Salary : 1000000\n",
      "        Bonus : 50000.0\n",
      "        \n"
     ]
    }
   ],
   "source": [
    "'''\n",
    "Problem 2: Employee Management Create a class representing an employee with attributes like employee ID, name, and salary. \n",
    "Implement methods to calculate the yearly bonus and display employee details\n",
    "'''\n",
    "\n",
    "class Employee:\n",
    "    def __init__(self,id,name,salary):\n",
    "        try:\n",
    "            self.id=id\n",
    "            self.name=name\n",
    "            self.salary=salary\n",
    "            if self.id<=0 or self.salary<=0:\n",
    "                raise ValueError(\"Invalid Value\")\n",
    "        except ValueError as e:\n",
    "            print(e)\n",
    "            \n",
    "    def calculate_yearly_bonus(self, percentage):\n",
    "        self.bonus = (percentage / 100) * self.salary\n",
    "    \n",
    "    def details(self):\n",
    "        print(f\"\"\"\n",
    "        Id : {self.id}\n",
    "        Name : {self.name}\n",
    "        Salary : {self.salary}\n",
    "        Bonus : {self.bonus}\n",
    "        \"\"\")\n",
    "    \n",
    "        \n",
    "Emp1=Employee(101,\"Vedant\",1000000)\n",
    "Emp1.calculate_yearly_bonus(5)\n",
    "Emp1.details()"
   ]
  },
  {
   "cell_type": "code",
   "execution_count": 27,
   "id": "4ebf5590-38db-4f9c-b957-bc5a3ae9f05a",
   "metadata": {},
   "outputs": [
    {
     "name": "stdout",
     "output_type": "stream",
     "text": [
      "\n",
      "        1.To rent a vehicle\n",
      "        2.To return a vehicle\n",
      "        3.To display Available vehicle\n",
      "        4.To Exit\n",
      "        \n"
     ]
    },
    {
     "name": "stdin",
     "output_type": "stream",
     "text": [
      "Enter your choice : 1\n",
      "Enter the vehicle : bmw\n"
     ]
    },
    {
     "name": "stdout",
     "output_type": "stream",
     "text": [
      "Vehicle rented successfully\n",
      "\n",
      "        1.To rent a vehicle\n",
      "        2.To return a vehicle\n",
      "        3.To display Available vehicle\n",
      "        4.To Exit\n",
      "        \n"
     ]
    },
    {
     "name": "stdin",
     "output_type": "stream",
     "text": [
      "Enter your choice : 3\n"
     ]
    },
    {
     "name": "stdout",
     "output_type": "stream",
     "text": [
      "Available vehicles : ['tata', 'ferrari', 'mercedes', 'luna']\n",
      "\n",
      "        1.To rent a vehicle\n",
      "        2.To return a vehicle\n",
      "        3.To display Available vehicle\n",
      "        4.To Exit\n",
      "        \n"
     ]
    },
    {
     "name": "stdin",
     "output_type": "stream",
     "text": [
      "Enter your choice : 2\n",
      "Enter the name of the vehicle : bmw\n"
     ]
    },
    {
     "name": "stdout",
     "output_type": "stream",
     "text": [
      "Vehicle returned successfully\n",
      "\n",
      "        1.To rent a vehicle\n",
      "        2.To return a vehicle\n",
      "        3.To display Available vehicle\n",
      "        4.To Exit\n",
      "        \n"
     ]
    },
    {
     "name": "stdin",
     "output_type": "stream",
     "text": [
      "Enter your choice : 3\n"
     ]
    },
    {
     "name": "stdout",
     "output_type": "stream",
     "text": [
      "Available vehicles : ['tata', 'ferrari', 'mercedes', 'luna', 'bmw']\n",
      "\n",
      "        1.To rent a vehicle\n",
      "        2.To return a vehicle\n",
      "        3.To display Available vehicle\n",
      "        4.To Exit\n",
      "        \n"
     ]
    },
    {
     "name": "stdin",
     "output_type": "stream",
     "text": [
      "Enter your choice : 4\n"
     ]
    }
   ],
   "source": [
    "'''\n",
    "\"Problem 3: Vehicle Rental Create a class representing a vehicle rental system. Implement methods to rent a vehicle\n",
    "return a vehicle, and display available vehicles.\n",
    "\n",
    "'''\n",
    "class Vehicle_System:\n",
    "    vehicle=['bmw','tata','ferrari','mercedes','luna']\n",
    "    def rent(self,name):\n",
    "        if name not in self.vehicle:\n",
    "            print(\"This vehicle is currently not available\")\n",
    "        else:\n",
    "            self.vehicle.remove(name)\n",
    "            print(\"Vehicle rented successfully\")\n",
    "\n",
    "    def return_vehicle(self,name):\n",
    "        if name not in self.vehicle:\n",
    "            self.vehicle.append(name)\n",
    "            print(\"Vehicle returned successfully\")\n",
    "    def display(self):\n",
    "        print(\"Available vehicles :\",self.vehicle)\n",
    "\n",
    "obj=Vehicle_System()\n",
    "while(True):\n",
    "\n",
    "        print(\"\"\"\n",
    "        1.To rent a vehicle\n",
    "        2.To return a vehicle\n",
    "        3.To display Available vehicle\n",
    "        4.To Exit\n",
    "        \"\"\")\n",
    "        choice = int(input(\"Enter your choice :\"))\n",
    "        if choice == 1:\n",
    "            name = input(\"Enter the vehicle :\")\n",
    "            obj.rent(name)\n",
    "        elif choice == 2:\n",
    "            name = input(\"Enter the name of the vehicle :\")\n",
    "            obj.return_vehicle(name)\n",
    "        elif choice == 3:\n",
    "            obj.display()\n",
    "        elif choice == 4:\n",
    "            break\n",
    "        else:\n",
    "            print(\"Invalid choice\")\n"
   ]
  },
  {
   "cell_type": "code",
   "execution_count": 15,
   "id": "31a2251e-f987-4db5-ada7-8a2c11cb70fe",
   "metadata": {},
   "outputs": [
    {
     "name": "stdout",
     "output_type": "stream",
     "text": [
      "\n",
      "    1.To Add Book\n",
      "    2.To Borrow Book\n",
      "    3.To display Available Book\n",
      "    4.To Exit\n",
      "    \n"
     ]
    },
    {
     "name": "stdin",
     "output_type": "stream",
     "text": [
      "Enter your choice 3\n"
     ]
    },
    {
     "name": "stdout",
     "output_type": "stream",
     "text": [
      "[]\n",
      "\n",
      "    1.To Add Book\n",
      "    2.To Borrow Book\n",
      "    3.To display Available Book\n",
      "    4.To Exit\n",
      "    \n"
     ]
    },
    {
     "name": "stdin",
     "output_type": "stream",
     "text": [
      "Enter your choice 1\n",
      "Enter the name of the book to add c++\n"
     ]
    },
    {
     "name": "stdout",
     "output_type": "stream",
     "text": [
      "\n",
      "    1.To Add Book\n",
      "    2.To Borrow Book\n",
      "    3.To display Available Book\n",
      "    4.To Exit\n",
      "    \n"
     ]
    },
    {
     "name": "stdin",
     "output_type": "stream",
     "text": [
      "Enter your choice 2\n",
      "Enter the name of the book to borrow java\n"
     ]
    },
    {
     "name": "stdout",
     "output_type": "stream",
     "text": [
      "Currently the book is not available\n",
      "\n",
      "    1.To Add Book\n",
      "    2.To Borrow Book\n",
      "    3.To display Available Book\n",
      "    4.To Exit\n",
      "    \n"
     ]
    },
    {
     "name": "stdin",
     "output_type": "stream",
     "text": [
      "Enter your choice 3\n"
     ]
    },
    {
     "name": "stdout",
     "output_type": "stream",
     "text": [
      "['c++']\n",
      "\n",
      "    1.To Add Book\n",
      "    2.To Borrow Book\n",
      "    3.To display Available Book\n",
      "    4.To Exit\n",
      "    \n"
     ]
    },
    {
     "name": "stdin",
     "output_type": "stream",
     "text": [
      "Enter your choice 2\n",
      "Enter the name of the book to borrow c++\n"
     ]
    },
    {
     "name": "stdout",
     "output_type": "stream",
     "text": [
      "Book borrowed successfully\n",
      "\n",
      "    1.To Add Book\n",
      "    2.To Borrow Book\n",
      "    3.To display Available Book\n",
      "    4.To Exit\n",
      "    \n"
     ]
    },
    {
     "name": "stdin",
     "output_type": "stream",
     "text": [
      "Enter your choice 3\n"
     ]
    },
    {
     "name": "stdout",
     "output_type": "stream",
     "text": [
      "[]\n",
      "\n",
      "    1.To Add Book\n",
      "    2.To Borrow Book\n",
      "    3.To display Available Book\n",
      "    4.To Exit\n",
      "    \n"
     ]
    },
    {
     "name": "stdin",
     "output_type": "stream",
     "text": [
      "Enter your choice 4\n"
     ]
    }
   ],
   "source": [
    "'''\n",
    " \"Problem 4: Library Catalog Create classes representing a library and a book. Implement methods to add books to the library, \n",
    " borrow books, and display available books\n",
    "'''\n",
    "class Library:\n",
    "    def __init__(self):\n",
    "        self.Books = []\n",
    "\n",
    "    def Add_book(self, name):\n",
    "        self.name = name\n",
    "        self.Books.append(name)\n",
    "\n",
    "    def Borrow_book(self, name):\n",
    "        if name not in self.Books:\n",
    "            print(\"Currently the book is not available\")\n",
    "        else:\n",
    "            print(\"Book borrowed successfully\")\n",
    "            self.Books.remove(name)\n",
    "\n",
    "    def display(self):\n",
    "            print(self.Books)\n",
    "\n",
    "\n",
    "obj = Library()\n",
    "while (True):\n",
    "    print(\"\"\"\n",
    "    1.To Add Book\n",
    "    2.To Borrow Book\n",
    "    3.To display Available Book\n",
    "    4.To Exit\n",
    "    \"\"\")\n",
    "    choice = int(input(\"Enter your choice\"))\n",
    "    if choice == 1:\n",
    "        name = input(\"Enter the name of the book to add\")\n",
    "        obj.Add_book(name)\n",
    "    elif choice == 2:\n",
    "        name = input(\"Enter the name of the book to borrow\")\n",
    "        obj. Borrow_book(name)\n",
    "    elif choice == 3:\n",
    "        obj.display()\n",
    "    elif choice == 4:\n",
    "        break\n",
    "    else:\n",
    "        print(\"Invalid choice\")\n",
    "    "
   ]
  },
  {
   "cell_type": "code",
   "execution_count": 26,
   "id": "d3ca986c-cc74-457e-9074-1b52fdfc524f",
   "metadata": {},
   "outputs": [
    {
     "name": "stdout",
     "output_type": "stream",
     "text": [
      "\n",
      "    1.To Add product\n",
      "    2.To update quantity of product\n",
      "    3.To display available product\n",
      "    4.To exit\n",
      "    \n"
     ]
    },
    {
     "name": "stdin",
     "output_type": "stream",
     "text": [
      "Enter your choice 1\n",
      "Enter product name keyboard\n",
      "Enter Quantity 10\n"
     ]
    },
    {
     "name": "stdout",
     "output_type": "stream",
     "text": [
      "\n",
      "    1.To Add product\n",
      "    2.To update quantity of product\n",
      "    3.To display available product\n",
      "    4.To exit\n",
      "    \n"
     ]
    },
    {
     "name": "stdin",
     "output_type": "stream",
     "text": [
      "Enter your choice 1\n",
      "Enter product name mouse\n",
      "Enter Quantity 20\n"
     ]
    },
    {
     "name": "stdout",
     "output_type": "stream",
     "text": [
      "\n",
      "    1.To Add product\n",
      "    2.To update quantity of product\n",
      "    3.To display available product\n",
      "    4.To exit\n",
      "    \n"
     ]
    },
    {
     "name": "stdin",
     "output_type": "stream",
     "text": [
      "Enter your choice 2\n",
      "Enter the name of the product whose quantity you want to update chord\n",
      "Enter Quantity 30\n"
     ]
    },
    {
     "name": "stdout",
     "output_type": "stream",
     "text": [
      "Product is not present in inventory\n",
      "\n",
      "    1.To Add product\n",
      "    2.To update quantity of product\n",
      "    3.To display available product\n",
      "    4.To exit\n",
      "    \n"
     ]
    },
    {
     "name": "stdin",
     "output_type": "stream",
     "text": [
      "Enter your choice 2\n",
      "Enter the name of the product whose quantity you want to update keyboard\n",
      "Enter Quantity 100\n"
     ]
    },
    {
     "name": "stdout",
     "output_type": "stream",
     "text": [
      "\n",
      "    1.To Add product\n",
      "    2.To update quantity of product\n",
      "    3.To display available product\n",
      "    4.To exit\n",
      "    \n"
     ]
    },
    {
     "name": "stdin",
     "output_type": "stream",
     "text": [
      "Enter your choice 3\n"
     ]
    },
    {
     "name": "stdout",
     "output_type": "stream",
     "text": [
      "Available products in inventory\n",
      "{'keyboard': 100, 'mouse': 20}\n",
      "\n",
      "    1.To Add product\n",
      "    2.To update quantity of product\n",
      "    3.To display available product\n",
      "    4.To exit\n",
      "    \n"
     ]
    },
    {
     "name": "stdin",
     "output_type": "stream",
     "text": [
      "Enter your choice 4\n"
     ]
    }
   ],
   "source": [
    "'''\n",
    "\"Problem 5: Product Inventory Create classes representing a product and an inventory system. \n",
    "Implement methods to add products to the inventory, update product quantity, and display available products\n",
    "'''\n",
    "class Product:\n",
    "    def __init__(self,name,quantity):\n",
    "        self.name=name\n",
    "        self.quantity=quantity\n",
    "\n",
    "class Inventory(Product):\n",
    "    products = {}\n",
    "    def __init__(self,name,quantity):\n",
    "        super().__init__(name,quantity)\n",
    "    def Add(self):\n",
    "        if name in self.products:\n",
    "            print(\"Already exists in Inventory\")\n",
    "        else:\n",
    "            self.products[self.name]=self.quantity\n",
    "\n",
    "    def update_quantity(self,name,quantity):\n",
    "        if name in self.products:\n",
    "            self.products[name]=quantity\n",
    "        else:\n",
    "            print(\"Product is not present in inventory\")\n",
    "\n",
    "    def display(self):\n",
    "        print(\"Available products in inventory\")\n",
    "        print(self.products)\n",
    "\n",
    "while(True):\n",
    "    print(\"\"\"\n",
    "    1.To Add product\n",
    "    2.To update quantity of product\n",
    "    3.To display available product\n",
    "    4.To exit\n",
    "    \"\"\")\n",
    "    choice=int(input(\"Enter your choice\"))\n",
    "    if choice==1:\n",
    "        name=input(\"Enter product name\")\n",
    "        quantity=int(input(\"Enter Quantity\"))\n",
    "        obj = Inventory(name,quantity)\n",
    "        obj.Add()\n",
    "    elif choice==2:\n",
    "        name=input(\"Enter the name of the product whose quantity you want to update\")\n",
    "        quantity = int(input(\"Enter Quantity\"))\n",
    "        obj.update_quantity(name,quantity)\n",
    "\n",
    "    elif choice==3:\n",
    "        obj.display()\n",
    "    elif choice==4:\n",
    "        break\n",
    "    else:\n",
    "        print(\"Enter a valid choice\")\n"
   ]
  },
  {
   "cell_type": "code",
   "execution_count": 22,
   "id": "c47b6bd7-39cc-44eb-a67a-29493830b11c",
   "metadata": {},
   "outputs": [
    {
     "name": "stdout",
     "output_type": "stream",
     "text": [
      "\n",
      "       1.For Rectangle\n",
      "       2.For Cuboid\n",
      "       \n"
     ]
    },
    {
     "name": "stdin",
     "output_type": "stream",
     "text": [
      "Enter choice 1\n"
     ]
    },
    {
     "name": "stdout",
     "output_type": "stream",
     "text": [
      "Enter the length and breadth of rectanlge\n"
     ]
    },
    {
     "name": "stdin",
     "output_type": "stream",
     "text": [
      " 10\n",
      " 5\n"
     ]
    },
    {
     "name": "stdout",
     "output_type": "stream",
     "text": [
      "Area of rectanlge is :  50\n",
      "Perimeter of rectanlge is :  30\n"
     ]
    }
   ],
   "source": [
    "'''\n",
    "\"Problem 6: Shape Calculation Create a class representing a shape with attributes like length, width,\n",
    "and height. Implement methods to calculate the area and perimeter of the shape.\n",
    "    \n",
    "'''\n",
    "class Shape:\n",
    "    def Area(self):\n",
    "        pass\n",
    "    def Perimeter(self):\n",
    "        pass\n",
    "\n",
    "class Rectangle(Shape):\n",
    "    def __init__(self,l,b):\n",
    "        self.l=l\n",
    "        self.b=b\n",
    "\n",
    "    def Area(self):\n",
    "        return (self.l * self.b)\n",
    "\n",
    "    def Perimeter(self):\n",
    "        return 2 * (self.l + self.b)\n",
    "\n",
    "\n",
    "class Cuboid(Shape):\n",
    "    def __init__(self, l,b,h):\n",
    "        self.l = l\n",
    "        self.b = b\n",
    "        self.h=h\n",
    "\n",
    "    def Area(self):\n",
    "        return 2 * ((self.l * self.b) + (self.b * self.h) + (self.h * self.l))\n",
    "\n",
    "    def Perimeter(self):\n",
    "        return (self.l * self.b * self.h)\n",
    "\n",
    "\n",
    "print(\"\"\"\n",
    "       1.For Rectangle\n",
    "       2.For Cuboid\n",
    "       \"\"\")\n",
    "choice = int(input(\"Enter choice\"))\n",
    "if choice == 1:\n",
    "    print(\"Enter the length and breadth of rectanlge\")\n",
    "    l = int(input())\n",
    "    b = int(input())\n",
    "    r = Rectangle(l,b)\n",
    "    print(\"Area of rectanlge is : \", r.Area())\n",
    "    print(\"Perimeter of rectanlge is : \", r.Perimeter())\n",
    "\n",
    "elif choice == 2:\n",
    "    print(\"Enter the length and breadth and height of cuboid\")\n",
    "    l = int(input())\n",
    "    b = int(input())\n",
    "    h = int(input())\n",
    "    c=Cuboid(l,b,h)\n",
    "    print(\"Area of cuboid : \", c.Area())\n",
    "    print(\"Perimeter of cuboid is : \", c.Perimeter())\n",
    "\n",
    "else:\n",
    "    print(\"Invalid choice\")"
   ]
  },
  {
   "cell_type": "code",
   "execution_count": 23,
   "id": "60be0bae-de07-4fce-b727-dea5ec266525",
   "metadata": {},
   "outputs": [
    {
     "name": "stdout",
     "output_type": "stream",
     "text": [
      "Enter student score of 5 subject\n"
     ]
    },
    {
     "name": "stdin",
     "output_type": "stream",
     "text": [
      " 100\n",
      " 34\n",
      " 77\n",
      " 89\n",
      " 91\n"
     ]
    },
    {
     "name": "stdout",
     "output_type": "stream",
     "text": [
      "Averrage is 78\n",
      "B Grade\n",
      "ID : 101\n",
      "Name : Vedant\n"
     ]
    }
   ],
   "source": [
    "\n",
    "\"\"\"\n",
    "Problem 7: Student Management Create a class representing a student with attributes like student ID, name,\n",
    "and grades. Implement methods to calculate the average grade and display student details.\n",
    "\"\"\"\n",
    "class Student:\n",
    "    score=[]\n",
    "    def __init__(self,id,name):\n",
    "        self.id=id\n",
    "        self.name=name\n",
    "\n",
    "    def cal_grade(self):\n",
    "\n",
    "        print(\"Enter student score of 5 subject\")\n",
    "        for i in range(0,5):\n",
    "            sub=int(input())\n",
    "            self.score.append(sub)\n",
    "\n",
    "        avg=sum(self.score)//5\n",
    "        print(f\"Averrage is {avg}\")\n",
    "        if avg<=100 and avg>=90:\n",
    "            print(\"A Grade\")\n",
    "        elif avg<=90 and avg>=75:\n",
    "            print(\"B Grade\")\n",
    "        elif avg <=74 and avg >=55:\n",
    "            print(\"C Grade\")\n",
    "        elif avg <=54 and avg >=33:\n",
    "            print(\"D Grade\")\n",
    "        else:\n",
    "            print(\"Fail\")\n",
    "\n",
    "    def display(self):\n",
    "        print(f\"ID : {self.id}\")\n",
    "        print(f\"Name : {self.name}\")\n",
    "\n",
    "obj=Student(101,\"Vedant\")\n",
    "obj.cal_grade()\n",
    "obj.display()"
   ]
  },
  {
   "cell_type": "code",
   "execution_count": 24,
   "id": "e8fe2613-628f-4a07-8754-cb2f421f0c8f",
   "metadata": {},
   "outputs": [
    {
     "name": "stdout",
     "output_type": "stream",
     "text": [
      "Email send successfully\n",
      "\n",
      "        Sender : vedantunawane22\n",
      "        Recipient : pwhelp\n",
      "        Subject : Access for data science course\n",
      "        \n"
     ]
    }
   ],
   "source": [
    "'''\n",
    "Problem 8: Email Management Create a class representing an email with attributes like sender, recipient,\n",
    "and subject. Implement methods to send an email and display email details.\n",
    "'''\n",
    "class Email:\n",
    "    def __init__(self,sender,recipient,subject):\n",
    "        self.sender=sender\n",
    "        self.recipient=recipient\n",
    "        self.subject=subject\n",
    "\n",
    "    def send_email(self):\n",
    "        print(\"Email send successfully\")\n",
    "\n",
    "    def email_details(self):\n",
    "        print(f\"\"\"\n",
    "        Sender : {self.sender}\n",
    "        Recipient : {self.recipient}\n",
    "        Subject : {self.subject}\n",
    "        \"\"\")\n",
    "obj=Email(\"vedantunawane22\",\"pwhelp\",\"Access for data science course\")\n",
    "obj.send_email()\n",
    "obj.email_details()"
   ]
  },
  {
   "cell_type": "code",
   "execution_count": 8,
   "id": "d3167252-9331-4e2a-9650-89bd519590bd",
   "metadata": {},
   "outputs": [
    {
     "name": "stdout",
     "output_type": "stream",
     "text": [
      "New post added to john_doe's profile.\n",
      "New post added to john_doe's profile.\n",
      "New post added to john_doe's profile.\n",
      "Posts from john_doe's profile:\n",
      "2024-01-11 03:27:59: Enjoying a sunny day at the beach!\n",
      "2024-01-11 03:27:59: Trying out a new recipe for dinner.\n",
      "2024-01-11 03:27:59: Coding late into the night.\n",
      "Posts from john_doe's profile containing 'coding':\n",
      "2024-01-11 03:27:59: Coding late into the night.\n"
     ]
    }
   ],
   "source": [
    "'''\n",
    "\"Problem 9: Social Media Profile Create a class representing a social media profile with attributes \n",
    "like username and posts.Implement methods to add posts, display posts, and search for posts by keyword.\n",
    "'''\n",
    "class SocialMediaProfile:\n",
    "    def __init__(self, username):\n",
    "        self.username = username\n",
    "        self.posts = []\n",
    "\n",
    "    def add_post(self, content):\n",
    "      \n",
    "        post = {'content': content, 'timestamp': self._get_current_timestamp()}\n",
    "        self.posts.append(post)\n",
    "        print(f'New post added to {self.username}\\'s profile.')\n",
    "\n",
    "    def display_posts(self):\n",
    "        if self.posts:\n",
    "            print(f\"Posts from {self.username}'s profile:\")\n",
    "            for post in self.posts:\n",
    "                print(f\"{post['timestamp']}: {post['content']}\")\n",
    "        else:\n",
    "            print(f\"{self.username}'s profile has no posts.\")\n",
    "\n",
    "    def search_posts(self, keyword):\n",
    "       \n",
    "        matching_posts = [post for post in self.posts if keyword.lower() in post['content'].lower()]\n",
    "        if matching_posts:\n",
    "            print(f\"Posts from {self.username}'s profile containing '{keyword}':\")\n",
    "            for post in matching_posts:\n",
    "                print(f\"{post['timestamp']}: {post['content']}\")\n",
    "        else:\n",
    "            print(f\"No posts found in {self.username}'s profile containing '{keyword}'.\")\n",
    "\n",
    "    def _get_current_timestamp(self):\n",
    "        from datetime import datetime\n",
    "        return datetime.now().strftime('%Y-%m-%d %H:%M:%S')\n",
    "\n",
    "\n",
    "profile = SocialMediaProfile(\"john_doe\")\n",
    "\n",
    "profile.add_post(\"Enjoying a sunny day at the beach!\")\n",
    "profile.add_post(\"Trying out a new recipe for dinner.\")\n",
    "profile.add_post(\"Coding late into the night.\")\n",
    "\n",
    "profile.display_posts()\n",
    "\n",
    "profile.search_posts(\"coding\")\n"
   ]
  },
  {
   "cell_type": "code",
   "execution_count": 7,
   "id": "7f6a31a0-8518-4d0b-980e-0d17a5702351",
   "metadata": {},
   "outputs": [
    {
     "name": "stdout",
     "output_type": "stream",
     "text": [
      "{ Development : 24-11-2024 } { DSA : 22-07-2024 } { Internship : 22-12-2024 } \n",
      "completed\n",
      "{ Development : 24-11-2024 } { Internship : 22-12-2024 } \n"
     ]
    }
   ],
   "source": [
    "'''\n",
    "Problem 10: ToDo List Create a class representing a ToDo list with attributes like tasks and due dates. \n",
    "Implement methods to add tasks, mark tasks as completed, and display pending tasks.\n",
    "'''\n",
    "'''\n",
    "Problem 10: ToDo List Create a class representing a ToDo list with attributes like tasks and due dates.\n",
    "Implement methods to add tasks, mark tasks as completed, and display pending tasks.\n",
    "'''\n",
    "class Todo_List:\n",
    "    def __init__(self):\n",
    "        self.tasks={}\n",
    "\n",
    "    def add_task(self,name,due):\n",
    "        self.tasks[name]=due\n",
    "\n",
    "    def mark_completed(self,name):\n",
    "        if name in self.tasks:\n",
    "            print(\"completed\")\n",
    "            self.tasks[name]=\"completed\"\n",
    "\n",
    "    def pending_task(self):\n",
    "             for i in self.tasks:\n",
    "                 if self.tasks[i]!=\"completed\":\n",
    "                        print(\"{\",i,\":\",self.tasks[i],\"}\",end=\" \")\n",
    "             print()\n",
    "Vedant=Todo_List()\n",
    "Vedant.add_task(\"Development\",\"24-11-2024\")\n",
    "Vedant.add_task(\"DSA\",\"22-07-2024\")\n",
    "Vedant.add_task(\"Internship\",\"22-10-2024\")\n",
    "Vedant.add_task(\"Internship\",\"22-12-2024\")\n",
    "\n",
    "Vedant.pending_task()\n",
    "Vedant.mark_completed(\"DSA\")\n",
    "Vedant.pending_task()\n",
    "\n",
    "\n"
   ]
  },
  {
   "cell_type": "code",
   "execution_count": null,
   "id": "f6e8dd52-beb5-4692-975d-5c61025cace6",
   "metadata": {},
   "outputs": [],
   "source": []
  }
 ],
 "metadata": {
  "kernelspec": {
   "display_name": "Python 3 (ipykernel)",
   "language": "python",
   "name": "python3"
  },
  "language_info": {
   "codemirror_mode": {
    "name": "ipython",
    "version": 3
   },
   "file_extension": ".py",
   "mimetype": "text/x-python",
   "name": "python",
   "nbconvert_exporter": "python",
   "pygments_lexer": "ipython3",
   "version": "3.10.8"
  }
 },
 "nbformat": 4,
 "nbformat_minor": 5
}
